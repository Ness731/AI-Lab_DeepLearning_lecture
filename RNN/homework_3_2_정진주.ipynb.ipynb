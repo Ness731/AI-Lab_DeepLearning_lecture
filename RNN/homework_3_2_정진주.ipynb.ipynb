{
  "nbformat": 4,
  "nbformat_minor": 0,
  "metadata": {
    "colab": {
      "name": "homework_3_2_정진주.ipynb",
      "provenance": [],
      "collapsed_sections": []
    },
    "kernelspec": {
      "name": "python3",
      "display_name": "Python 3"
    }
  },
  "cells": [
    {
      "cell_type": "code",
      "metadata": {
        "colab": {
          "base_uri": "https://localhost:8080/"
        },
        "id": "OPtWYp-M8qoA",
        "outputId": "7f225bd2-a746-40d3-ded3-f7c0aa2b0b06"
      },
      "source": [
        "#!/usr/bin/env python\n",
        "# coding: utf-8\n",
        "import torch\n",
        "import torch.nn as nn\n",
        "import torch.nn.functional as F\n",
        "import random\n",
        "import matplotlib.pyplot as plt\n",
        "\n",
        "\n",
        "## 영어 \"hello\"를 스페인어 \"hola\"로 번역하기 mission\n",
        "vocab_size = 256  # 총 아스키 코드 개수\n",
        "x_ = list(map(ord, \"hello\"))  # 아스키 코드 리스트로 변환\n",
        "y_ = list(map(ord, \"hola\"))   # 아스키 코드 리스트로 변환\n",
        "print(\"hello -> \", x_)\n",
        "print(\"hola  -> \", y_)\n",
        "\n",
        "x = torch.LongTensor(x_)\n",
        "y = torch.LongTensor(y_)"
      ],
      "execution_count": null,
      "outputs": [
        {
          "output_type": "stream",
          "name": "stdout",
          "text": [
            "hello ->  [104, 101, 108, 108, 111]\n",
            "hola  ->  [104, 111, 108, 97]\n"
          ]
        }
      ]
    },
    {
      "cell_type": "code",
      "source": [
        "class Seq2Seq(nn.Module):\n",
        "    def __init__(self, vocab_size, hidden_size):\n",
        "        super(Seq2Seq, self).__init__()\n",
        "        self.dropout_p=0.2\n",
        "        self.n_layers = 1   # 은닉 벡터들의 층\n",
        "        self.hidden_size = hidden_size\n",
        "        self.embedding = nn.Embedding(vocab_size, hidden_size)\n",
        "        self.dropout = nn.Dropout(self.dropout_p)\n",
        "\n",
        "        ## RNN으로 구성된 기본 제공 모델 -> LSTM, GRU로 자유롭게 수정\n",
        "        self.encoder = nn.GRU(hidden_size, hidden_size, dropout=self.dropout_p)\n",
        "        self.decoder = nn.GRU(hidden_size, hidden_size, dropout=self.dropout_p)\n",
        "        self.project = nn.Linear(hidden_size, vocab_size)\n",
        "\n",
        "    def forward(self, inputs, targets):\n",
        "        # 인코더에 들어갈 입력\n",
        "        initial_state = self._init_state()\n",
        "        ## embedding = self.embedding(inputs).unsqueeze(1)\n",
        "        embedding = self.dropout(self.embedding(inputs)).unsqueeze(1)\n",
        "        ## embedding = [seq_len, batch_size, embedding_size]\n",
        "        \n",
        "        # 인코더 (Encoder)\n",
        "        encoder_output, encoder_state = self.encoder(embedding, initial_state)\n",
        "        ## encoder_output = [seq_len, batch_size, hidden_size]\n",
        "        ## encoder_state  = [n_layers, seq_len, hidden_size]\n",
        "\n",
        "        # 디코더에 들어갈 입력\n",
        "        decoder_state = encoder_state\n",
        "        decoder_input = torch.LongTensor([0])\n",
        "        \n",
        "        # 디코더 (Decoder)\n",
        "        outputs = []\n",
        "        for i in range(targets.size()[0]):\n",
        "            decoder_input = self.embedding(decoder_input).unsqueeze(1)\n",
        "            ## decoder_input = self.dropout(self.embedding(decoder_input)).unsqueeze(1)\n",
        "\n",
        "            decoder_output, decoder_state = self.decoder(decoder_input, decoder_state)\n",
        "\n",
        "            projection = self.project(decoder_output)\n",
        "\n",
        "            outputs.append(projection)\n",
        "            decoder_input = torch.LongTensor([targets[i]])\n",
        "\n",
        "        outputs = torch.stack(outputs).squeeze()\n",
        "        return outputs\n",
        "    \n",
        "    def _init_state(self, batch_size=1):\n",
        "        weight = next(self.parameters()).data\n",
        "        return weight.new(self.n_layers, batch_size, self.hidden_size).zero_()"
      ],
      "metadata": {
        "id": "oUr8o8riXfJ5"
      },
      "execution_count": null,
      "outputs": []
    },
    {
      "cell_type": "code",
      "source": [
        "seq2seq = Seq2Seq(vocab_size, 128)\n",
        "criterion = nn.CrossEntropyLoss()\n",
        "optimizer = torch.optim.Adam(seq2seq.parameters(), lr=0.001)\n",
        "EPOCH = 1000"
      ],
      "metadata": {
        "colab": {
          "base_uri": "https://localhost:8080/"
        },
        "id": "SSZz7ldzXjUE",
        "outputId": "30657932-122c-4395-cb5d-458d4f529de0"
      },
      "execution_count": null,
      "outputs": [
        {
          "output_type": "stream",
          "name": "stderr",
          "text": [
            "/usr/local/lib/python3.7/dist-packages/torch/nn/modules/rnn.py:65: UserWarning: dropout option adds dropout after all but last recurrent layer, so non-zero dropout expects num_layers greater than 1, but got dropout=0.2 and num_layers=1\n",
            "  \"num_layers={}\".format(dropout, num_layers))\n"
          ]
        }
      ]
    },
    {
      "cell_type": "code",
      "source": [
        "log = []\n",
        "for i in range(EPOCH): # Epoch은 고정\n",
        "    prediction = seq2seq(x, y)\n",
        "    loss = criterion(prediction, y)\n",
        "    optimizer.zero_grad()\n",
        "    loss.backward()\n",
        "    optimizer.step()\n",
        "    loss_val = loss.data\n",
        "    log.append(loss_val)\n",
        "    if i % 100 == 0:\n",
        "        print(\"\\n 반복:%d 오차: %s\" % (i, loss_val.item()))\n",
        "        _, top1 = prediction.data.topk(1, 1)\n",
        "        print([chr(c) for c in top1.squeeze().numpy().tolist()])\n",
        "\n",
        "# matplotlib : 그래프를 그려주는 파이썬 라이브러리\n",
        "plt.plot(log)\n",
        "plt.ylabel('cross entropy loss')\n",
        "plt.show()"
      ],
      "metadata": {
        "colab": {
          "base_uri": "https://localhost:8080/",
          "height": 816
        },
        "id": "e3EQ_NZIXm5a",
        "outputId": "353ae08d-27ec-4535-a18c-5c778c1eeee8"
      },
      "execution_count": null,
      "outputs": [
        {
          "output_type": "stream",
          "name": "stdout",
          "text": [
            "\n",
            " 반복:0 오차: 5.529699325561523\n",
            "['\\x06', 'ø', 'à', 'ß']\n",
            "\n",
            " 반복:100 오차: 0.011489687487483025\n",
            "['h', 'o', 'l', 'a']\n",
            "\n",
            " 반복:200 오차: 0.004874242469668388\n",
            "['h', 'o', 'l', 'a']\n",
            "\n",
            " 반복:300 오차: 0.0027814405038952827\n",
            "['h', 'o', 'l', 'a']\n",
            "\n",
            " 반복:400 오차: 0.0018354604253545403\n",
            "['h', 'o', 'l', 'a']\n",
            "\n",
            " 반복:500 오차: 0.0013134102337062359\n",
            "['h', 'o', 'l', 'a']\n",
            "\n",
            " 반복:600 오차: 0.0009953140979632735\n",
            "['h', 'o', 'l', 'a']\n",
            "\n",
            " 반복:700 오차: 0.0007827761583030224\n",
            "['h', 'o', 'l', 'a']\n",
            "\n",
            " 반복:800 오차: 0.0006336031947284937\n",
            "['h', 'o', 'l', 'a']\n",
            "\n",
            " 반복:900 오차: 0.0005249478854238987\n",
            "['h', 'o', 'l', 'a']\n"
          ]
        },
        {
          "output_type": "display_data",
          "data": {
            "text/plain": [
              "<Figure size 432x288 with 1 Axes>"
            ],
            "image/png": "[encoded data removed]"
          },
          "metadata": {
            "needs_background": "light"
          }
        }
      ]
    }
  ]
}